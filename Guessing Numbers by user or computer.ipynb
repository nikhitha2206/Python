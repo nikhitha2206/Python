{
 "cells": [
  {
   "cell_type": "code",
   "execution_count": 5,
   "metadata": {},
   "outputs": [
    {
     "name": "stdout",
     "output_type": "stream",
     "text": [
      "Is 178 too high (H), too low (L), or correct (C)?? l\n",
      "Is 933 too high (H), too low (L), or correct (C)?? h\n",
      "Is 394 too high (H), too low (L), or correct (C)?? l\n",
      "Is 679 too high (H), too low (L), or correct (C)?? h\n",
      "Is 634 too high (H), too low (L), or correct (C)?? h\n",
      "Is 433 too high (H), too low (L), or correct (C)?? l\n",
      "Is 596 too high (H), too low (L), or correct (C)?? h\n",
      "Is 576 too high (H), too low (L), or correct (C)?? h\n",
      "Is 469 too high (H), too low (L), or correct (C)?? l\n",
      "Is 480 too high (H), too low (L), or correct (C)?? l\n",
      "Is 563 too high (H), too low (L), or correct (C)?? h\n",
      "Is 509 too high (H), too low (L), or correct (C)?? h\n",
      "Is 488 too high (H), too low (L), or correct (C)?? l\n",
      "Is 505 too high (H), too low (L), or correct (C)?? h\n",
      "Is 497 too high (H), too low (L), or correct (C)?? l\n",
      "Is 500 too high (H), too low (L), or correct (C)?? c\n",
      "Yay! The computer guessed your number, 500, correctly!\n"
     ]
    }
   ],
   "source": [
    "import random\n",
    "\n",
    "def guess(x):\n",
    "    random_number = random.randint(1, x)\n",
    "    guess = 0\n",
    "    while guess != random_number:\n",
    "        guess = int(input(f'Guess a number between 1 and {x}: '))\n",
    "        if guess < random_number:\n",
    "            print('Sorry, guess again. Too low.')\n",
    "        elif guess > random_number:\n",
    "            print('Sorry, guess again. Too high.')\n",
    "\n",
    "    print(f'Yay, congrats. You have guessed the number {random_number} correctly!!')\n",
    "\n",
    "def computer_guess(x):\n",
    "    low = 1\n",
    "    high = x\n",
    "    feedback = ''\n",
    "    while feedback != 'c':\n",
    "        if low != high:\n",
    "            guess = random.randint(low, high)\n",
    "        else:\n",
    "            guess = low  # could also be high b/c low = high\n",
    "        feedback = input(f'Is {guess} too high (H), too low (L), or correct (C)?? ').lower()\n",
    "        if feedback == 'h':\n",
    "            high = guess - 1\n",
    "        elif feedback == 'l':\n",
    "            low = guess + 1\n",
    "\n",
    "    print(f'Yay! The computer guessed your number, {guess}, correctly!')\n",
    "\n",
    "\n",
    "computer_guess(1000)"
   ]
  },
  {
   "cell_type": "code",
   "execution_count": null,
   "metadata": {},
   "outputs": [],
   "source": []
  }
 ],
 "metadata": {
  "kernelspec": {
   "display_name": "Python 3",
   "language": "python",
   "name": "python3"
  },
  "language_info": {
   "codemirror_mode": {
    "name": "ipython",
    "version": 3
   },
   "file_extension": ".py",
   "mimetype": "text/x-python",
   "name": "python",
   "nbconvert_exporter": "python",
   "pygments_lexer": "ipython3",
   "version": "3.7.6"
  }
 },
 "nbformat": 4,
 "nbformat_minor": 4
}
