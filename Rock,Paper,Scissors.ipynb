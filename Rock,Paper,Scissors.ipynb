{
 "cells": [
  {
   "cell_type": "code",
   "execution_count": 10,
   "metadata": {},
   "outputs": [
    {
     "name": "stdout",
     "output_type": "stream",
     "text": [
      "What's your choice?? 'r' for Rock, 's' for Scissors, 'p' for Papers\n",
      "s\n",
      "Yay!! You Won..\n"
     ]
    }
   ],
   "source": [
    "import random\n",
    "def play():\n",
    "    user = input(\"What's your choice?? 'r' for Rock, 's' for Scissors, 'p' for Papers\\n\")\n",
    "    computer= random.choice(['r','s','p'])\n",
    "    \n",
    "    if(user==computer):\n",
    "        return 'It\\'s a tie'\n",
    "    if(is_win(user,computer)):\n",
    "        return \"Yay!! You Won..\"\n",
    "    return \"You Lost\"\n",
    "\n",
    "def is_win(player,computer):\n",
    "    if (player=='r' and computer=='s') or (player=='s' and computer=='p') or (player=='p' and computer=='r'):\n",
    "        return True\n",
    "    \n",
    "print(play())    \n",
    "    "
   ]
  },
  {
   "cell_type": "code",
   "execution_count": null,
   "metadata": {},
   "outputs": [],
   "source": []
  }
 ],
 "metadata": {
  "kernelspec": {
   "display_name": "Python 3",
   "language": "python",
   "name": "python3"
  },
  "language_info": {
   "codemirror_mode": {
    "name": "ipython",
    "version": 3
   },
   "file_extension": ".py",
   "mimetype": "text/x-python",
   "name": "python",
   "nbconvert_exporter": "python",
   "pygments_lexer": "ipython3",
   "version": "3.7.6"
  }
 },
 "nbformat": 4,
 "nbformat_minor": 4
}
